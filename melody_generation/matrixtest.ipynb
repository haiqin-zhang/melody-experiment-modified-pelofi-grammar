{
 "cells": [
  {
   "cell_type": "code",
   "execution_count": 13,
   "metadata": {},
   "outputs": [],
   "source": [
    "import pandas as pd\n",
    "import numpy as np\n",
    "from generation_functions import *"
   ]
  },
  {
   "cell_type": "code",
   "execution_count": 14,
   "metadata": {},
   "outputs": [
    {
     "data": {
      "text/plain": [
       "[['A3', 'Bb3', 'E4', 'C#4', 'A4'],\n",
       " ['A3', 'Bb3', 'C4', 'E4', 'C#4', 'G4', 'C#4', 'A4'],\n",
       " ['A3', 'C4', 'C#4', 'G4', 'C#4', 'A4'],\n",
       " ['A3', 'Bb3', 'C4', 'C#4', 'G4', 'A4'],\n",
       " ['A3', 'C4', 'C#4', 'A4']]"
      ]
     },
     "execution_count": 14,
     "metadata": {},
     "output_type": "execute_result"
    }
   ],
   "source": [
    "matrix_lowstart = {\n",
    "    'A3': [0, 0, 0, 0, 0, 0, 0], #probability of getting to a from starting points a, b, and c respectively\n",
    "    'Bb3': [.6, 0, 0, 0, 0, 0, 0],\n",
    "    'C4': [.2, .5, 0, 0, .05, 0, 0],\n",
    "    'C#4': [0, 0, .9, 0, .9, .4, 0],\n",
    "    'E4': [.2, .5, .05, 0, 0, 0, 0],\n",
    "    'G4': [0, 0, .05, .4, .05, 0, 0],\n",
    "    'A4':[0, 0, 0, .6, 0, .6, 1]\n",
    "}\n",
    "matrix_lowstart = organize_matrix(matrix_lowstart)\n",
    "\n",
    "melody_list = markov_melody_lowstart(5,matrix_lowstart)\n",
    "\n",
    "melody_list"
   ]
  },
  {
   "cell_type": "code",
   "execution_count": 16,
   "metadata": {},
   "outputs": [],
   "source": [
    "!rm *mid"
   ]
  },
  {
   "cell_type": "code",
   "execution_count": 17,
   "metadata": {},
   "outputs": [],
   "source": [
    "#rewriting the melody generation for forced choice\n",
    "#first generate melodic examples that have both low and high-IC note|context combinations\n",
    "#??? wut 2 do???\n",
    "#for now the function just makes either G or C# the long note; the 'correct' choice is the first choice which makes G longer\n",
    "\n",
    "def to_midi_forcedchoice_1(setsize, target, off_target):\n",
    "  for number in range(1, setsize+1):\n",
    "  #generates the first ('correct') melody\n",
    "    file = open('melody'+str(number)+'.pkl', 'rb')\n",
    "    test_melody = pickle.load(file)\n",
    "\n",
    "    stream_correct = stream.Stream()\n",
    "\n",
    "    for i in test_melody: \n",
    "      if i == target:\n",
    "        newnote = note.Note(i, duration = duration.Duration(2))\n",
    "        stream_correct.append(newnote)\n",
    "      else:\n",
    "        newnote = note.Note(i, duration = duration.Duration(1))\n",
    "        stream_correct.append(newnote)\n",
    "\n",
    "    #stream_correct.write('midi', 'test_correct1.mid')\n",
    "\n",
    "    #generates the second ('incorrect') melody\n",
    "\n",
    "    stream_incorrect = stream.Stream()\n",
    "\n",
    "    already_used = False\n",
    "    for i in test_melody: \n",
    "      if i == off_target and already_used == False : #will have to randomize the off-target notes better\n",
    "        newnote = note.Note(i, duration = duration.Duration(2))\n",
    "        stream_incorrect.append(newnote)\n",
    "        already_used = True\n",
    "      else:\n",
    "        newnote = note.Note(i, duration = duration.Duration(1))\n",
    "        stream_incorrect.append(newnote)\n",
    "\n",
    "    r = note.Rest(duration = duration.Duration(4))\n",
    "    stream_correct.append(r)\n",
    "    stream_correct.append(stream_incorrect)\n",
    "    stream_correct.write('midi', 'test_1correct'+str(number)+'.mid')\n",
    "\n",
    "to_midi_forcedchoice_1(len(melody_list), 'G4', 'C#4')"
   ]
  },
  {
   "cell_type": "code",
   "execution_count": 18,
   "metadata": {},
   "outputs": [],
   "source": [
    "def to_midi_forcedchoice_2(setsize, target, off_target):\n",
    "  for number in range(1, setsize+1):\n",
    "  #generates the first ('correct') melody\n",
    "    file = open('melody'+str(number)+'.pkl', 'rb')\n",
    "    test_melody = pickle.load(file) #could make a version without pickle but then the melodies can't be stored...\n",
    "\n",
    "    stream_incorrect = stream.Stream()\n",
    "\n",
    "    for i in test_melody: \n",
    "      if i == target:\n",
    "        newnote = note.Note(i, duration = duration.Duration(2))\n",
    "        stream_incorrect.append(newnote)\n",
    "      else:\n",
    "        newnote = note.Note(i, duration = duration.Duration(1))\n",
    "        stream_incorrect.append(newnote)\n",
    "\n",
    "    #stream_incorrect.write('midi', 'test_correct1.mid')\n",
    "\n",
    "    #generates the second ('incorrect') melody\n",
    "\n",
    "    stream_correct = stream.Stream()\n",
    "\n",
    "    already_used = False\n",
    "    for i in test_melody: \n",
    "      if i == off_target and already_used == False : #will have to randomize the off-target notes better\n",
    "        newnote = note.Note(i, duration = duration.Duration(2))\n",
    "        stream_correct.append(newnote)\n",
    "        already_used = True\n",
    "      else:\n",
    "        newnote = note.Note(i, duration = duration.Duration(1))\n",
    "        stream_correct.append(newnote)\n",
    "\n",
    "    r = note.Rest(duration = duration.Duration(4))\n",
    "    stream_incorrect.append(r)\n",
    "    stream_incorrect.append(stream_correct)\n",
    "    stream_incorrect.write('midi', 'test_2correct'+str(number)+'.mid')\n",
    "\n",
    "to_midi_forcedchoice_2(len(melody_list), 'G4', 'C#4')\n",
    "\n"
   ]
  },
  {
   "cell_type": "code",
   "execution_count": 22,
   "metadata": {},
   "outputs": [],
   "source": [
    "!rm *.mid"
   ]
  },
  {
   "cell_type": "code",
   "execution_count": 23,
   "metadata": {},
   "outputs": [],
   "source": [
    "def to_midi_interpret(setsize, target):\n",
    "  for number in range(1, setsize+1):\n",
    "  #generates the first ('correct') melody\n",
    "    file = open('melody'+str(number)+'.pkl', 'rb')\n",
    "    test_melody = pickle.load(file) #could make a version without pickle but then the melodies can't be stored...\n",
    "\n",
    "    \n",
    "\n",
    "    notelengths = [0.5,1,2,4]\n",
    "    for length in notelengths:\n",
    "      stream_final = stream.Stream()\n",
    "      for i in test_melody: \n",
    "        if i == target:\n",
    "          newnote = note.Note(i, duration = duration.Duration(length))\n",
    "          stream_final.append(newnote)\n",
    "        else:\n",
    "          newnote = note.Note(i, duration = duration.Duration(1))\n",
    "          stream_final.append(newnote)\n",
    "\n",
    "\n",
    "      stream_final.write('midi', 'test_interpret'+str(length)+'.mid')\n",
    "\n",
    "to_midi_interpret(1, 'C#4')"
   ]
  },
  {
   "cell_type": "code",
   "execution_count": null,
   "metadata": {},
   "outputs": [],
   "source": []
  },
  {
   "cell_type": "markdown",
   "metadata": {},
   "source": []
  }
 ],
 "metadata": {
  "kernelspec": {
   "display_name": "Python 3.8.8 ('base')",
   "language": "python",
   "name": "python3"
  },
  "language_info": {
   "codemirror_mode": {
    "name": "ipython",
    "version": 3
   },
   "file_extension": ".py",
   "mimetype": "text/x-python",
   "name": "python",
   "nbconvert_exporter": "python",
   "pygments_lexer": "ipython3",
   "version": "3.8.8"
  },
  "orig_nbformat": 4,
  "vscode": {
   "interpreter": {
    "hash": "1b5e399702ec9fc1ed9bbf835e56b9a1cc0082e11b2b154e8fc70a9e022b7825"
   }
  }
 },
 "nbformat": 4,
 "nbformat_minor": 2
}
